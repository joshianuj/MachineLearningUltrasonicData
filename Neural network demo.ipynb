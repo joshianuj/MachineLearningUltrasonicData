{
 "cells": [
  {
   "cell_type": "code",
   "execution_count": 31,
   "metadata": {},
   "outputs": [],
   "source": [
    "def fill_by_average(prev_data):\n",
    "    final_data=[]\n",
    "    for i,item in enumerate(prev_data):\n",
    "        final_data.append(item)\n",
    "        if i<len(prev_data)-1:\n",
    "            final_data.append((item+prev_data[i+1])/2)\n",
    "    return final_data\n",
    "from sklearn import preprocessing\n",
    "\n",
    "def fft_from_data_frame(data_frame,fs=1e6):\n",
    "    signal_set = []\n",
    "    for index, row in data_frame.iterrows():\n",
    "        fft_data = fft(row, n=row.size)/row.size\n",
    "        freq = fftfreq(row.size, d=1/fs)\n",
    "        cut_high_signal = np.abs(fft_data).copy()\n",
    "        cut_high_signal[(freq > 50000)] = 0\n",
    "        cut_high_signal[(freq < 30000)] = 0\n",
    "        d = np.abs(cut_high_signal)\n",
    "#         d  = list(filter(lambda a: a != 0, d))\n",
    "        while len(d) < 80:\n",
    "            d = fill_by_average(d) \n",
    "        if len(d) == 81:\n",
    "            d.insert(41,(d[0]+d[len(d)-1])/2)\n",
    "        signal_set.append(d)\n",
    "    return signal_set"
   ]
  },
  {
   "cell_type": "code",
   "execution_count": 23,
   "metadata": {},
   "outputs": [
    {
     "name": "stdout",
     "output_type": "stream",
     "text": [
      "4095\n",
      "ee\n"
     ]
    },
    {
     "data": {
      "image/png": "[encoded data removed]",
      "text/plain": [
       "<Figure size 432x288 with 2 Axes>"
      ]
     },
     "metadata": {
      "needs_background": "light"
     },
     "output_type": "display_data"
    }
   ],
   "source": [
    "from scipy.signal import hilbert, chirp\n",
    "def hilbert_transform(data_frame,fs=1e6):\n",
    "    signal_set = []\n",
    "    for index, signal in data_frame.iterrows():\n",
    "        analytic_signal = hilbert(signal)\n",
    "        amplitude_envelope = np.abs(analytic_signal)\n",
    "        instantaneous_phase = np.unwrap(np.angle(analytic_signal))\n",
    "        instantaneous_frequency = (np.diff(instantaneous_phase)/((2.0*np.pi) * fs))\n",
    "        print(len(instantaneous_frequency))\n",
    "        signal_set.append(analytic_signal)\n",
    "        t = np.arange(4096) / 1e6\n",
    "        fig = plt.figure()\n",
    "        ax0 = fig.add_subplot(211)\n",
    "        ax0.plot(t, signal, label='signal')\n",
    "        ax0.plot(t, amplitude_envelope, label='envelope')\n",
    "        ax0.set_xlabel(\"time in seconds\")\n",
    "        ax0.legend()\n",
    "        ax1 = fig.add_subplot(212)\n",
    "        ax1.plot(t[1:], instantaneous_frequency)\n",
    "        ax1.set_xlabel(\"time in seconds\")\n",
    "        ax1.set_ylim(0.0, 120.0)\n",
    "        return\n",
    "    return signal_set\n",
    "hilbert_transform(stopper_data)\n",
    "print('ee')"
   ]
  },
  {
   "cell_type": "code",
   "execution_count": 32,
   "metadata": {},
   "outputs": [],
   "source": [
    "import numpy as np\n",
    "import pandas as pd\n",
    "import matplotlib.pyplot as plt\n",
    "import plotly\n",
    "from numpy.fft import fft, fftfreq, ifft, rfft\n",
    "\n",
    "stopper_data = pd.read_csv('./data/train/Stopper/_80cm_AS_00008.csv', header=None)\n",
    "stopper_data_2 = pd.read_csv('./data/train/Stopper/100cm_AS_00003.csv', header=None)\n",
    "wall_data = pd.read_csv('./data/train/Wall_Collection/_80cm_AS_00002.csv', header=None)\n",
    "wall_data_2 = pd.read_csv('./data/train/Wall_Collection/100cm_AS_00005.csv', header=None)\n",
    "\n",
    "predict_stopper_data = pd.read_csv('./data/predict/Stopper/100cm_AS_00003.csv', header=None)\n",
    "predict_wall_data = pd.read_csv('./data/predict/Wall_Collection/_80cm_AS_00002.csv', header=None)"
   ]
  },
  {
   "cell_type": "code",
   "execution_count": null,
   "metadata": {},
   "outputs": [],
   "source": []
  },
  {
   "cell_type": "code",
   "execution_count": 37,
   "metadata": {},
   "outputs": [],
   "source": [
    "stopper_fft = fft_from_data_frame(stopper_data) + fft_from_data_frame(stopper_data_2)\n",
    "wall_fft = fft_from_data_frame(wall_data)+ fft_from_data_frame(wall_data_2)\n",
    "predict_stopper_fft = fft_from_data_frame(predict_stopper_data)\n",
    "predict_wall_fft = fft_from_data_frame(predict_wall_data)\n",
    "X = stopper_fft + wall_fft\n",
    "y = [0]*len(stopper_fft) + [1]*len(wall_fft)\n",
    "predict_X = predict_stopper_fft + predict_wall_fft\n",
    "y_true = [0]*len(predict_stopper_fft) + [1]*len(predict_wall_fft)"
   ]
  },
  {
   "cell_type": "code",
   "execution_count": 388,
   "metadata": {},
   "outputs": [],
   "source": [
    "#all files\n",
    "# stopper_data = pd.read_csv('./data/all/Stopper_train_80_to_180.csv', header=None)\n",
    "# wall_data = pd.read_csv('./data/all/Wall_Collection_train_80_to_180.csv', header=None)\n",
    "# predict_stopper_data = pd.read_csv('./data/all/Stopper_predict_80_to_180.csv', header=None)\n",
    "# predict_wall_data = pd.read_csv('./data/all/Wall_Collection_predict_80_to_180.csv', header=None)\n",
    "\n",
    "\n",
    "stopper_data = pd.read_csv('./final_data/Step_train_aggregate.csv', header=None)\n",
    "wall_data = pd.read_csv('./final_data/Wall_train_aggregate.csv', header=None)\n",
    "predict_stopper_data = pd.read_csv('./final_data/Step_predict_aggregate.csv', header=None)\n",
    "predict_wall_data = pd.read_csv('./final_data/Wall_predict_aggregate.csv', header=None)\n",
    "\n",
    "#get fft\n",
    "stopper_fft = fft_from_data_frame(stopper_data)\n",
    "wall_fft = fft_from_data_frame(wall_data)\n",
    "X = stopper_fft + wall_fft\n",
    "y = [11]*len(stopper_fft) + [2]*len(wall_fft)\n",
    "\n",
    "#predictions\n",
    "predict_stopper_fft = fft_from_data_frame(predict_stopper_data)\n",
    "predict_wall_fft = fft_from_data_frame(predict_wall_data)\n",
    "predict_X = predict_stopper_fft + predict_wall_fft\n",
    "y_true = [0]*len(predict_stopper_fft) + [1]*len(predict_wall_fft)"
   ]
  },
  {
   "cell_type": "code",
   "execution_count": 5,
   "metadata": {},
   "outputs": [
    {
     "ename": "NameError",
     "evalue": "name 'predict_wall_fft' is not defined",
     "output_type": "error",
     "traceback": [
      "\u001b[0;31m---------------------------------------------------------------------------\u001b[0m",
      "\u001b[0;31mNameError\u001b[0m                                 Traceback (most recent call last)",
      "\u001b[0;32m<ipython-input-5-d1e2a7795588>\u001b[0m in \u001b[0;36m<module>\u001b[0;34m\u001b[0m\n\u001b[1;32m      2\u001b[0m \u001b[0mclf\u001b[0m \u001b[0;34m=\u001b[0m \u001b[0mMLPClassifier\u001b[0m\u001b[0;34m(\u001b[0m\u001b[0msolver\u001b[0m\u001b[0;34m=\u001b[0m\u001b[0;34m'lbfgs'\u001b[0m\u001b[0;34m,\u001b[0m \u001b[0malpha\u001b[0m\u001b[0;34m=\u001b[0m\u001b[0;36m1e-5\u001b[0m\u001b[0;34m,\u001b[0m\u001b[0mhidden_layer_sizes\u001b[0m\u001b[0;34m=\u001b[0m\u001b[0;34m(\u001b[0m\u001b[0;36m7\u001b[0m\u001b[0;34m,\u001b[0m\u001b[0;34m)\u001b[0m\u001b[0;34m,\u001b[0m \u001b[0mrandom_state\u001b[0m\u001b[0;34m=\u001b[0m\u001b[0;36m1\u001b[0m\u001b[0;34m)\u001b[0m\u001b[0;34m\u001b[0m\u001b[0;34m\u001b[0m\u001b[0m\n\u001b[1;32m      3\u001b[0m \u001b[0mclf\u001b[0m\u001b[0;34m.\u001b[0m\u001b[0mfit\u001b[0m\u001b[0;34m(\u001b[0m\u001b[0mX\u001b[0m\u001b[0;34m,\u001b[0m \u001b[0my\u001b[0m\u001b[0;34m)\u001b[0m\u001b[0;34m\u001b[0m\u001b[0;34m\u001b[0m\u001b[0m\n\u001b[0;32m----> 4\u001b[0;31m \u001b[0mprint\u001b[0m\u001b[0;34m(\u001b[0m\u001b[0mlen\u001b[0m\u001b[0;34m(\u001b[0m\u001b[0mpredict_wall_fft\u001b[0m\u001b[0;34m[\u001b[0m\u001b[0;36m0\u001b[0m\u001b[0;34m]\u001b[0m\u001b[0;34m)\u001b[0m\u001b[0;34m)\u001b[0m\u001b[0;34m\u001b[0m\u001b[0;34m\u001b[0m\u001b[0m\n\u001b[0m\u001b[1;32m      5\u001b[0m \u001b[0mresult\u001b[0m \u001b[0;34m=\u001b[0m \u001b[0mclf\u001b[0m\u001b[0;34m.\u001b[0m\u001b[0mpredict\u001b[0m\u001b[0;34m(\u001b[0m\u001b[0mpredict_wall_fft\u001b[0m\u001b[0;34m)\u001b[0m\u001b[0;34m\u001b[0m\u001b[0;34m\u001b[0m\u001b[0m\n\u001b[1;32m      6\u001b[0m \u001b[0mprint\u001b[0m\u001b[0;34m(\u001b[0m\u001b[0mresult\u001b[0m\u001b[0;34m)\u001b[0m\u001b[0;34m\u001b[0m\u001b[0;34m\u001b[0m\u001b[0m\n",
      "\u001b[0;31mNameError\u001b[0m: name 'predict_wall_fft' is not defined"
     ]
    }
   ],
   "source": [
    "from sklearn.neural_network import MLPClassifier\n",
    "clf = MLPClassifier(solver='lbfgs', alpha=1e-5,hidden_layer_sizes=(7,), random_state=1)\n",
    "clf.fit(X, y)\n",
    "print(len(predict_wall_fft[0]))\n",
    "result = clf.predict(predict_wall_fft)\n",
    "print(result)"
   ]
  },
  {
   "cell_type": "code",
   "execution_count": 276,
   "metadata": {},
   "outputs": [
    {
     "data": {
      "image/png": "[encoded data removed]",
      "text/plain": [
       "<Figure size 432x288 with 1 Axes>"
      ]
     },
     "metadata": {
      "needs_background": "light"
     },
     "output_type": "display_data"
    }
   ],
   "source": [
    "from sklearn import metrics\n",
    "pred = clf.predict_proba(predict_X)[::,1]\n",
    "fpr, tpr, _ = metrics.roc_curve(y_true, pred)\n",
    "auc = metrics.roc_auc_score(y_true, pred)\n",
    "plt.plot(fpr,tpr,label=\"data 1, auc=\"+str(auc))\n",
    "plt.legend(loc=4)\n",
    "plt.ylabel('True Positive Rate')\n",
    "plt.xlabel('False Positive Rate')\n",
    "plt.show()"
   ]
  },
  {
   "cell_type": "code",
   "execution_count": 293,
   "metadata": {},
   "outputs": [
    {
     "name": "stdout",
     "output_type": "stream",
     "text": [
      "[[190   8]\n",
      " [  4 218]]\n"
     ]
    },
    {
     "data": {
      "image/png": "[encoded data removed]",
      "text/plain": [
       "<Figure size 288x288 with 1 Axes>"
      ]
     },
     "metadata": {
      "needs_background": "light"
     },
     "output_type": "display_data"
    }
   ],
   "source": [
    "y_pred = clf.predict(predict_X)\n",
    "\n",
    "# confusion metrics\n",
    "from sklearn.metrics import confusion_matrix\n",
    "from matplotlib.colors import ListedColormap\n",
    "cmap = ListedColormap(['g', 'w'])\n",
    "\n",
    "cm = confusion_matrix(y_true, y_pred)\n",
    "\n",
    "plt.matshow(cm, cmap=cmap)\n",
    "for i in range(len(cm)):\n",
    "    for j in range(len(cm[0])):\n",
    "        c = cm[j,i]\n",
    "        plt.text(i, j, str(c), va='center', ha='center')\n",
    "print(cm)"
   ]
  },
  {
   "cell_type": "code",
   "execution_count": 354,
   "metadata": {},
   "outputs": [],
   "source": [
    "for i in range(1,10):\n",
    "    clf = MLPClassifier(solver='lbfgs', alpha=1e-5,hidden_layer_sizes=(i,), random_state=1)\n",
    "    clf.fit(X, y)\n",
    "    result = clf.predict(predict_X)"
   ]
  },
  {
   "cell_type": "code",
   "execution_count": 36,
   "metadata": {},
   "outputs": [
    {
     "name": "stdout",
     "output_type": "stream",
     "text": [
      "1 hidden layer: 15 2 hidden layer: 6 and max accuracy score:  0.8954282263372098\n"
     ]
    }
   ],
   "source": [
    "from sklearn.model_selection import cross_val_score\n",
    "from sklearn import preprocessing\n",
    "# stopper_data = pd.read_csv('./final_data/Step_Overall.csv', header=None)\n",
    "# wall_data = pd.read_csv('./final_data/Wall_Overall.csv', header=None)\n",
    "stopper_data = pd.read_csv('./final_data/Stopper_overall_80to270.csv', header=None)\n",
    "wall_data = pd.read_csv('./final_data/Wall_Collection_overall_80to270.csv', header=None)\n",
    "\n",
    "#get fft\n",
    "stopper_fft = fft_from_data_frame(stopper_data, fs=1e6)\n",
    "wall_fft = fft_from_data_frame(wall_data, fs=1e6)\n",
    "\n",
    "X = stopper_fft + wall_fft\n",
    "X = preprocessing.normalize(X)\n",
    "y = [0]*len(stopper_fft) + [1]*len(wall_fft)\n",
    "max_average = 0 \n",
    "index = 0\n",
    "index_2 = 0\n",
    "\n",
    "for j in range(1, 10):\n",
    "    for i in range(1,50):\n",
    "        clf = MLPClassifier(solver='lbfgs', alpha=1e-5,hidden_layer_sizes=(i,j,), random_state=1)\n",
    "        scores = cross_val_score(clf, X, y, cv=8, scoring=\"accuracy\")\n",
    "    #     print(\"hidden layer\", i, \"score average\", scores.mean())\n",
    "        if max_average < scores.mean():\n",
    "            max_average = scores.mean()\n",
    "            index = i\n",
    "            index_2 = j\n",
    "print(\"1 hidden layer:\",index, \"2 hidden layer:\", index_2, \"and max accuracy score: \",max_average)"
   ]
  },
  {
   "cell_type": "code",
   "execution_count": 37,
   "metadata": {},
   "outputs": [
    {
     "name": "stdout",
     "output_type": "stream",
     "text": [
      "1 hidden layer: 15 2 hidden layer: 3 and max accuracy score:  0.9285714285714286\n"
     ]
    }
   ],
   "source": [
    "from sklearn.model_selection import KFold\n",
    "from sklearn.metrics import accuracy_score\n",
    "from sklearn.neural_network import MLPClassifier\n",
    "from sklearn import metrics\n",
    "\n",
    "# kf = KFold(n_splits=8)\n",
    "kf = KFold(n_splits=10, shuffle=True)\n",
    "from sklearn import metrics\n",
    "max_average = 0 \n",
    "index = 0\n",
    "index_2 = 0\n",
    "y = np.array(y)\n",
    "for j in range(1, 10):\n",
    "    for i in range(1,50):\n",
    "        clf = MLPClassifier(solver='lbfgs', alpha=1e-5,hidden_layer_sizes=(i,j,), random_state=1)\n",
    "        score = np.array([])\n",
    "        for train_index, test_index in kf.split(X):\n",
    "            X_train, X_test = X[train_index], X[test_index]\n",
    "            y_train, y_test = y[train_index], y[test_index]\n",
    "            clf.fit(X_train,y_train)\n",
    "            y_clf_result = clf.predict(X_test)\n",
    "            score = np.append(score, [accuracy_score(y_clf_result, y_test)])\n",
    "        if max_average < np.average(score):\n",
    "            max_average = np.average(score)\n",
    "            index = i\n",
    "            index_2 = j\n",
    "print(\"1 hidden layer:\",index, \"2 hidden layer:\", index_2, \"and max accuracy score: \",max_average)"
   ]
  },
  {
   "cell_type": "code",
   "execution_count": 399,
   "metadata": {},
   "outputs": [
    {
     "name": "stdout",
     "output_type": "stream",
     "text": [
      "[0.5 0.5 0.5 0.5]\n",
      "[0.18257419 0.36514837 0.54772256 0.73029674]\n"
     ]
    }
   ],
   "source": [
    "\n",
    "for n in normalized_X:\n",
    "    print(n)"
   ]
  },
  {
   "cell_type": "code",
   "execution_count": 20,
   "metadata": {},
   "outputs": [],
   "source": []
  },
  {
   "cell_type": "code",
   "execution_count": 43,
   "metadata": {},
   "outputs": [
    {
     "name": "stdout",
     "output_type": "stream",
     "text": [
      "104\n",
      "(104, 4096)\n"
     ]
    }
   ],
   "source": [
    "from sklearn import preprocessing\n",
    "a = preprocessing.normalize(stopper_fft)\n",
    "print(a.shape)"
   ]
  },
  {
   "cell_type": "code",
   "execution_count": null,
   "metadata": {},
   "outputs": [],
   "source": [
    "[1,1,1,1,1,1,1,1,2,2,2,2,2,2,2,2,2]"
   ]
  }
 ],
 "metadata": {
  "kernelspec": {
   "display_name": "Python 3",
   "language": "python",
   "name": "python3"
  },
  "language_info": {
   "codemirror_mode": {
    "name": "ipython",
    "version": 3
   },
   "file_extension": ".py",
   "mimetype": "text/x-python",
   "name": "python",
   "nbconvert_exporter": "python",
   "pygments_lexer": "ipython3",
   "version": "3.7.2"
  }
 },
 "nbformat": 4,
 "nbformat_minor": 2
}
