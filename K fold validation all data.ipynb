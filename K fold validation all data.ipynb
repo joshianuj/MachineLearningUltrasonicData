{
 "cells": [
  {
   "cell_type": "code",
   "execution_count": 84,
   "metadata": {},
   "outputs": [],
   "source": [
    "import numpy as np\n",
    "import pandas as pd\n",
    "import matplotlib.pyplot as plt\n",
    "import plotly\n",
    "from numpy.fft import fft, fftfreq, ifft, rfft\n",
    "\n",
    "stopper_data = pd.read_csv('./data/all/_all_Stopper_80_to_180.csv', header=None)\n",
    "wall_data = pd.read_csv('./data/all/_all_Wall_Collection_80_to_180.csv', header=None)"
   ]
  },
  {
   "cell_type": "code",
   "execution_count": 85,
   "metadata": {},
   "outputs": [],
   "source": [
    "def fft_from_data_frame(data_frame):\n",
    "    fs= 1e6\n",
    "    signal_set = []\n",
    "    for index, row in data_frame.iterrows():\n",
    "        fft_data = fft(row, n=row.size)/row.size\n",
    "        freq = fftfreq(row.size, d=1/fs)\n",
    "        cut_high_signal = np.abs(fft_data).copy()\n",
    "        cut_high_signal[(freq > 50000)] = 0\n",
    "        cut_high_signal[(freq < 30000)] = 0\n",
    "        signal_set.append(np.abs(cut_high_signal))\n",
    "    return signal_set"
   ]
  },
  {
   "cell_type": "code",
   "execution_count": 87,
   "metadata": {},
   "outputs": [],
   "source": [
    "stopper_fft = fft_from_data_frame(stopper_data)\n",
    "wall_fft = fft_from_data_frame(wall_data)\n",
    "X = stopper_fft + wall_fft\n",
    "y = [1]*len(stopper_fft) + [2]*len(wall_fft)\n",
    "X = np.array(X)\n",
    "y = np.array(y)"
   ]
  },
  {
   "cell_type": "code",
   "execution_count": 99,
   "metadata": {},
   "outputs": [
    {
     "name": "stdout",
     "output_type": "stream",
     "text": [
      "hidden layer: 1 and accuracy score:  0.9885386819484241\n",
      "hidden layer: 2 and accuracy score:  0.9820916905444127\n",
      "hidden layer: 3 and accuracy score:  0.9756446991404011\n",
      "hidden layer: 4 and accuracy score:  0.9720630372492836\n",
      "hidden layer: 5 and accuracy score:  0.979942693409742\n",
      "hidden layer: 6 and accuracy score:  0.5279369627507163\n",
      "hidden layer: 7 and accuracy score:  0.9842406876790831\n",
      "hidden layer: 8 and accuracy score:  0.9799426934097422\n",
      "hidden layer: 9 and accuracy score:  0.9749283667621778\n"
     ]
    }
   ],
   "source": [
    "from sklearn.model_selection import KFold\n",
    "from sklearn.metrics import accuracy_score\n",
    "from sklearn.neural_network import MLPClassifier\n",
    "from sklearn import metrics\n",
    "\n",
    "# kf = KFold(n_splits=8)\n",
    "kf = KFold(n_splits=4, shuffle=True)\n",
    "from sklearn import metrics\n",
    "\n",
    "for i in range(1,10):\n",
    "    clf = MLPClassifier(solver='lbfgs', alpha=1e-5,hidden_layer_sizes=(i,), random_state=1)\n",
    "    score = np.array([])\n",
    "    for train_index, test_index in kf.split(X):\n",
    "        X_train, X_test = X[train_index], X[test_index]\n",
    "        y_train, y_test = y[train_index], y[test_index]\n",
    "        clf.fit(X_train,y_train)\n",
    "        y_clf_result = clf.predict(X_test)\n",
    "        score = np.append(score, [accuracy_score(y_clf_result, y_test)])\n",
    "        pred = clf.predict_proba(X_test)[::,1]\n",
    "    print(\"hidden layer:\",i, \"and accuracy score: \",np.average(score))"
   ]
  },
  {
   "cell_type": "code",
   "execution_count": 100,
   "metadata": {},
   "outputs": [
    {
     "name": "stdout",
     "output_type": "stream",
     "text": [
      "hidden layer 1 score average 0.9112131306430289\n",
      "hidden layer 2 score average 0.934852287323387\n",
      "hidden layer 3 score average 0.9411638930841578\n",
      "hidden layer 4 score average 0.9584114123863161\n",
      "hidden layer 5 score average 0.954790675681398\n",
      "hidden layer 6 score average 0.5279370803750806\n",
      "hidden layer 7 score average 0.9405193703803031\n",
      "hidden layer 8 score average 0.94624184275034\n",
      "hidden layer 9 score average 0.967032090279052\n"
     ]
    }
   ],
   "source": [
    "from sklearn.model_selection import cross_val_score\n",
    "\n",
    "for i in range(1,10):\n",
    "    clf = MLPClassifier(solver='lbfgs', alpha=1e-5,hidden_layer_sizes=(i,), random_state=1)\n",
    "    scores = cross_val_score(clf, X, y, cv=4, scoring=\"accuracy\")\n",
    "    print(\"hidden layer\", i, \"score average\", scores.mean())"
   ]
  },
  {
   "cell_type": "code",
   "execution_count": null,
   "metadata": {},
   "outputs": [],
   "source": []
  }
 ],
 "metadata": {
  "kernelspec": {
   "display_name": "Python 3",
   "language": "python",
   "name": "python3"
  },
  "language_info": {
   "codemirror_mode": {
    "name": "ipython",
    "version": 3
   },
   "file_extension": ".py",
   "mimetype": "text/x-python",
   "name": "python",
   "nbconvert_exporter": "python",
   "pygments_lexer": "ipython3",
   "version": "3.7.2"
  }
 },
 "nbformat": 4,
 "nbformat_minor": 2
}
