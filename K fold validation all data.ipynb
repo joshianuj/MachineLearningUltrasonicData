{
 "cells": [
  {
   "cell_type": "code",
   "execution_count": 133,
   "metadata": {},
   "outputs": [],
   "source": [
    "import numpy as np\n",
    "import pandas as pd\n",
    "import matplotlib.pyplot as plt\n",
    "import plotly\n",
    "from numpy.fft import fft, fftfreq, ifft, rfft\n",
    "\n",
    "stopper_data = pd.read_csv('./data/all/Stopper_train_80_to_180.csv', header=None)\n",
    "wall_data = pd.read_csv('./data/all/Wall_Collection_train_80_to_180.csv', header=None)"
   ]
  },
  {
   "cell_type": "code",
   "execution_count": 141,
   "metadata": {},
   "outputs": [],
   "source": [
    "def fft_from_data_frame(data_frame):\n",
    "    fs= 1e6\n",
    "    signal_set = []\n",
    "    for index, row in data_frame.iterrows():\n",
    "        fft_data = fft(row, n=row.size)/row.size\n",
    "        freq = fftfreq(row.size, d=1/fs)\n",
    "        cut_high_signal = np.abs(fft_data).copy()\n",
    "        cut_high_signal[(freq > 50000)] = 0\n",
    "        cut_high_signal[(freq < 30000)] = 0\n",
    "        signal_set.append(np.abs(cut_high_signal))\n",
    "    return list(filter(lambda a: a != 0, signal_set))"
   ]
  },
  {
   "cell_type": "code",
   "execution_count": 142,
   "metadata": {},
   "outputs": [
    {
     "ename": "ValueError",
     "evalue": "The truth value of an array with more than one element is ambiguous. Use a.any() or a.all()",
     "output_type": "error",
     "traceback": [
      "\u001b[0;31m---------------------------------------------------------------------------\u001b[0m",
      "\u001b[0;31mValueError\u001b[0m                                Traceback (most recent call last)",
      "\u001b[0;32m<ipython-input-142-56eb72dfce96>\u001b[0m in \u001b[0;36m<module>\u001b[0;34m\u001b[0m\n\u001b[0;32m----> 1\u001b[0;31m \u001b[0mstopper_fft\u001b[0m \u001b[0;34m=\u001b[0m \u001b[0mfft_from_data_frame\u001b[0m\u001b[0;34m(\u001b[0m\u001b[0mstopper_data\u001b[0m\u001b[0;34m)\u001b[0m\u001b[0;34m\u001b[0m\u001b[0;34m\u001b[0m\u001b[0m\n\u001b[0m\u001b[1;32m      2\u001b[0m \u001b[0mwall_fft\u001b[0m \u001b[0;34m=\u001b[0m \u001b[0mfft_from_data_frame\u001b[0m\u001b[0;34m(\u001b[0m\u001b[0mwall_data\u001b[0m\u001b[0;34m)\u001b[0m\u001b[0;34m\u001b[0m\u001b[0;34m\u001b[0m\u001b[0m\n\u001b[1;32m      3\u001b[0m \u001b[0mX\u001b[0m \u001b[0;34m=\u001b[0m \u001b[0mstopper_fft\u001b[0m \u001b[0;34m+\u001b[0m \u001b[0mwall_fft\u001b[0m\u001b[0;34m\u001b[0m\u001b[0;34m\u001b[0m\u001b[0m\n\u001b[1;32m      4\u001b[0m \u001b[0my\u001b[0m \u001b[0;34m=\u001b[0m \u001b[0;34m[\u001b[0m\u001b[0;36m1\u001b[0m\u001b[0;34m]\u001b[0m\u001b[0;34m*\u001b[0m\u001b[0mlen\u001b[0m\u001b[0;34m(\u001b[0m\u001b[0mstopper_fft\u001b[0m\u001b[0;34m)\u001b[0m \u001b[0;34m+\u001b[0m \u001b[0;34m[\u001b[0m\u001b[0;36m2\u001b[0m\u001b[0;34m]\u001b[0m\u001b[0;34m*\u001b[0m\u001b[0mlen\u001b[0m\u001b[0;34m(\u001b[0m\u001b[0mwall_fft\u001b[0m\u001b[0;34m)\u001b[0m\u001b[0;34m\u001b[0m\u001b[0;34m\u001b[0m\u001b[0m\n\u001b[1;32m      5\u001b[0m \u001b[0mX\u001b[0m \u001b[0;34m=\u001b[0m \u001b[0mnp\u001b[0m\u001b[0;34m.\u001b[0m\u001b[0marray\u001b[0m\u001b[0;34m(\u001b[0m\u001b[0mX\u001b[0m\u001b[0;34m)\u001b[0m\u001b[0;34m\u001b[0m\u001b[0;34m\u001b[0m\u001b[0m\n",
      "\u001b[0;32m<ipython-input-141-63bf46ea1847>\u001b[0m in \u001b[0;36mfft_from_data_frame\u001b[0;34m(data_frame)\u001b[0m\n\u001b[1;32m      9\u001b[0m         \u001b[0mcut_high_signal\u001b[0m\u001b[0;34m[\u001b[0m\u001b[0;34m(\u001b[0m\u001b[0mfreq\u001b[0m \u001b[0;34m<\u001b[0m \u001b[0;36m30000\u001b[0m\u001b[0;34m)\u001b[0m\u001b[0;34m]\u001b[0m \u001b[0;34m=\u001b[0m \u001b[0;36m0\u001b[0m\u001b[0;34m\u001b[0m\u001b[0;34m\u001b[0m\u001b[0m\n\u001b[1;32m     10\u001b[0m         \u001b[0msignal_set\u001b[0m\u001b[0;34m.\u001b[0m\u001b[0mappend\u001b[0m\u001b[0;34m(\u001b[0m\u001b[0mnp\u001b[0m\u001b[0;34m.\u001b[0m\u001b[0mabs\u001b[0m\u001b[0;34m(\u001b[0m\u001b[0mcut_high_signal\u001b[0m\u001b[0;34m)\u001b[0m\u001b[0;34m)\u001b[0m\u001b[0;34m\u001b[0m\u001b[0;34m\u001b[0m\u001b[0m\n\u001b[0;32m---> 11\u001b[0;31m     \u001b[0;32mreturn\u001b[0m \u001b[0mlist\u001b[0m\u001b[0;34m(\u001b[0m\u001b[0mfilter\u001b[0m\u001b[0;34m(\u001b[0m\u001b[0;32mlambda\u001b[0m \u001b[0ma\u001b[0m\u001b[0;34m:\u001b[0m \u001b[0ma\u001b[0m \u001b[0;34m!=\u001b[0m \u001b[0;36m0\u001b[0m\u001b[0;34m,\u001b[0m \u001b[0msignal_set\u001b[0m\u001b[0;34m)\u001b[0m\u001b[0;34m)\u001b[0m\u001b[0;34m\u001b[0m\u001b[0;34m\u001b[0m\u001b[0m\n\u001b[0m",
      "\u001b[0;31mValueError\u001b[0m: The truth value of an array with more than one element is ambiguous. Use a.any() or a.all()"
     ]
    }
   ],
   "source": [
    "stopper_fft = fft_from_data_frame(stopper_data)\n",
    "wall_fft = fft_from_data_frame(wall_data)\n",
    "X = stopper_fft + wall_fft\n",
    "y = [1]*len(stopper_fft) + [2]*len(wall_fft)\n",
    "X = np.array(X)\n",
    "y = np.array(y)"
   ]
  },
  {
   "cell_type": "code",
   "execution_count": 156,
   "metadata": {},
   "outputs": [
    {
     "name": "stdout",
     "output_type": "stream",
     "text": [
      "hidden layer: 1 and accuracy score:  0.9795081967213115\n",
      "hidden layer: 2 and accuracy score:  0.9815573770491803\n",
      "hidden layer: 3 and accuracy score:  0.9825819672131149\n",
      "hidden layer: 4 and accuracy score:  0.9856557377049181\n",
      "hidden layer: 5 and accuracy score:  0.9723360655737705\n",
      "hidden layer: 6 and accuracy score:  0.5276639344262295\n",
      "hidden layer: 7 and accuracy score:  0.9774590163934426\n",
      "hidden layer: 8 and accuracy score:  0.9825819672131146\n",
      "hidden layer: 9 and accuracy score:  0.9825819672131147\n"
     ]
    }
   ],
   "source": [
    "from sklearn.model_selection import KFold\n",
    "from sklearn.metrics import accuracy_score\n",
    "from sklearn.neural_network import MLPClassifier\n",
    "from sklearn import metrics\n",
    "\n",
    "# kf = KFold(n_splits=8)\n",
    "kf = KFold(n_splits=4, shuffle=True)\n",
    "from sklearn import metrics\n",
    "\n",
    "for i in range(1,10):\n",
    "    clf = MLPClassifier(solver='lbfgs', alpha=1e-5,hidden_layer_sizes=(i), random_state=1)\n",
    "    score = np.array([])\n",
    "    for train_index, test_index in kf.split(X):\n",
    "        X_train, X_test = X[train_index], X[test_index]\n",
    "        y_train, y_test = y[train_index], y[test_index]\n",
    "        clf.fit(X_train,y_train)\n",
    "        y_clf_result = clf.predict(X_test)\n",
    "        score = np.append(score, [accuracy_score(y_clf_result, y_test)])\n",
    "        pred = clf.predict_proba(X_test)[::,1]\n",
    "    print(\"hidden layer:\",i, \"and accuracy score: \",np.average(score))"
   ]
  },
  {
   "cell_type": "code",
   "execution_count": 162,
   "metadata": {},
   "outputs": [
    {
     "name": "stdout",
     "output_type": "stream",
     "text": [
      "hidden layer 1 score average 0.9703118739906406\n",
      "hidden layer 2 score average 0.5276641581546604\n",
      "hidden layer 3 score average 0.9682248835579567\n",
      "hidden layer 4 score average 0.5276641581546604\n",
      "hidden layer 5 score average 0.9856556000258837\n",
      "hidden layer 6 score average 0.9825776475334113\n",
      "hidden layer 7 score average 0.9682249523974739\n",
      "hidden layer 8 score average 0.9784960493001087\n",
      "hidden layer 9 score average 0.978508595302116\n",
      "hidden layer 10 score average 0.9078111511757101\n",
      "hidden layer 11 score average 0.9467295377977137\n",
      "hidden layer 12 score average 0.9651594082279744\n"
     ]
    }
   ],
   "source": [
    "from sklearn.model_selection import cross_val_score\n",
    "\n",
    "for i in range(1,13):\n",
    "    clf = MLPClassifier(solver='lbfgs', alpha=1e-5,hidden_layer_sizes=(10,i,), random_state=1)\n",
    "    scores = cross_val_score(clf, X, y, cv=4, scoring=\"accuracy\")\n",
    "    print(\"hidden layer\", i, \"score average\", scores.mean())"
   ]
  },
  {
   "cell_type": "code",
   "execution_count": 148,
   "metadata": {},
   "outputs": [
    {
     "name": "stdout",
     "output_type": "stream",
     "text": [
      "hidden layer 5 score average 0.9846268278612801\n",
      "hidden layer 6 score average 0.9856556344456423\n",
      "hidden layer 7 score average 0.9887294049374455\n",
      "hidden layer 8 score average 0.9846435902837152\n",
      "hidden layer 9 score average 0.9846477722843843\n",
      "hidden layer 10 score average 0.9887335869381146\n",
      "hidden layer 11 score average 0.9836190001197808\n"
     ]
    }
   ],
   "source": [
    "from sklearn.model_selection import cross_val_score\n",
    "\n",
    "for i in range(5,12):\n",
    "    clf = MLPClassifier(solver='lbfgs', alpha=1e-5,hidden_layer_sizes=(i,), random_state=1,activation=\"tanh\")\n",
    "    scores = cross_val_score(clf, X, y, cv=4, scoring=\"accuracy\")\n",
    "    print(\"hidden layer\", i, \"score average\", scores.mean())"
   ]
  },
  {
   "cell_type": "code",
   "execution_count": 132,
   "metadata": {},
   "outputs": [
    {
     "name": "stdout",
     "output_type": "stream",
     "text": [
      "[1, 3, 4, 5]\n"
     ]
    }
   ],
   "source": [
    "from sklearn.model_selection import cross_val_score\n",
    "\n",
    "for i in range(5,12):\n",
    "    clf = MLPClassifier(solver='lbfgs', alpha=1e-5,hidden_layer_sizes=(i,), random_state=1,activation=\"logistic\")\n",
    "    scores = cross_val_score(clf, X, y, cv=4, scoring=\"accuracy\")\n",
    "    print(\"hidden layer\", i, \"score average\", scores.mean())"
   ]
  },
  {
   "cell_type": "code",
   "execution_count": 149,
   "metadata": {},
   "outputs": [
    {
     "name": "stdout",
     "output_type": "stream",
     "text": [
      "hidden layer 5 score average 0.9825943755360877\n",
      "hidden layer 6 score average 0.9774504114537942\n",
      "hidden layer 7 score average 0.9836064196980149\n",
      "hidden layer 8 score average 0.9825860115347496\n",
      "hidden layer 9 score average 0.9825860115347496\n",
      "hidden layer 10 score average 0.9866844066102458\n",
      "hidden layer 11 score average 0.982581863953839\n"
     ]
    }
   ],
   "source": [
    "from sklearn.model_selection import cross_val_score\n",
    "\n",
    "for i in range(5,12):\n",
    "    clf = MLPClassifier(solver='lbfgs', alpha=1e-5,hidden_layer_sizes=(i,), random_state=1,activation=\"identity\")\n",
    "    scores = cross_val_score(clf, X, y, cv=4, scoring=\"accuracy\")\n",
    "    print(\"hidden layer\", i, \"score average\", scores.mean())"
   ]
  },
  {
   "cell_type": "code",
   "execution_count": 157,
   "metadata": {},
   "outputs": [],
   "source": [
    "from sklearn import preprocessing\n",
    "normalized_X = preprocessing.normalize(X)"
   ]
  },
  {
   "cell_type": "code",
   "execution_count": null,
   "metadata": {},
   "outputs": [],
   "source": [
    "train, predict = train_test_split(all_dataframe, test_size=0.3,random_state=42)\n",
    "train.to_csv('./final_data/%s_train_%s_to_%s.csv'%(filename,min,max), index=False, header=None)\n",
    "predict.to_csv('./final_data/%s_predict_%s_to_%s.csv'%(filename,min,max), index=False, header=None)"
   ]
  },
  {
   "cell_type": "code",
   "execution_count": null,
   "metadata": {},
   "outputs": [],
   "source": []
  }
 ],
 "metadata": {
  "kernelspec": {
   "display_name": "Python 3",
   "language": "python",
   "name": "python3"
  },
  "language_info": {
   "codemirror_mode": {
    "name": "ipython",
    "version": 3
   },
   "file_extension": ".py",
   "mimetype": "text/x-python",
   "name": "python",
   "nbconvert_exporter": "python",
   "pygments_lexer": "ipython3",
   "version": "3.7.2"
  }
 },
 "nbformat": 4,
 "nbformat_minor": 2
}
